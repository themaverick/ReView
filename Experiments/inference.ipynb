{
 "cells": [
  {
   "cell_type": "code",
   "execution_count": 9,
   "metadata": {},
   "outputs": [],
   "source": [
    "# Import the Python SDK\n",
    "import google.generativeai as genai\n",
    "from dotenv import load_dotenv\n",
    "import os\n",
    "import pandas as pd"
   ]
  },
  {
   "cell_type": "code",
   "execution_count": 3,
   "metadata": {},
   "outputs": [],
   "source": [
    "load_dotenv()\n",
    "GEMINI_API_KEY = os.getenv(\"GEMINI-API-KEY\")"
   ]
  },
  {
   "cell_type": "code",
   "execution_count": 5,
   "metadata": {},
   "outputs": [],
   "source": [
    "genai.configure(api_key=GEMINI_API_KEY)"
   ]
  },
  {
   "cell_type": "code",
   "execution_count": 6,
   "metadata": {},
   "outputs": [],
   "source": [
    "model = genai.GenerativeModel('gemini-1.5-flash')"
   ]
  },
  {
   "cell_type": "code",
   "execution_count": 8,
   "metadata": {},
   "outputs": [
    {
     "name": "stdout",
     "output_type": "stream",
     "text": [
      "Please provide me with the reviews! I need the actual text of the reviews to analyze them. \n",
      "\n",
      "Once you provide me with the reviews, I can help you with insights by:\n",
      "\n",
      "**1. Identifying common themes and patterns:**  I can analyze the reviews to find recurring positive and negative comments, identifying key strengths and weaknesses of the product.\n",
      "\n",
      "**2. Extracting specific features mentioned:**  I can pinpoint which features are most frequently praised or criticized, helping you understand what users value most.\n",
      "\n",
      "**3. Determining customer sentiment:** I can assess the overall sentiment expressed in the reviews (positive, negative, neutral), giving you a sense of customer satisfaction.\n",
      "\n",
      "**4. Categorizing reviews by user type:**  I can identify different types of users (e.g., first-time buyers, experienced users) and their specific feedback, helping you understand different perspectives.\n",
      "\n",
      "**5. Generating a summary of key findings:** I can create a concise summary of the most important insights gleaned from the reviews, providing you with actionable information.\n",
      "\n",
      "**Example:** \n",
      "\n",
      "Let's say you provide me with reviews for a new type of coffee maker. \n",
      "\n",
      "I might find insights like:\n",
      "\n",
      "* **Positive:** Users love the ease of use, the stylish design, and the quality of the coffee produced.\n",
      "* **Negative:** Some users complain about the size of the water reservoir being too small and the lack of a timer function.\n",
      "* **Features:** Features like the automatic shut-off and the ability to brew multiple cup sizes are highly praised. \n",
      "\n",
      "This kind of information can be valuable for product development, marketing, and customer service strategies. \n",
      "\n"
     ]
    }
   ],
   "source": [
    "response = model.generate_content(\"Can you produce useful insights from bunch of reviews about a product which might help me to analyse the product.\")\n",
    "print(response.text)"
   ]
  },
  {
   "cell_type": "code",
   "execution_count": 10,
   "metadata": {},
   "outputs": [],
   "source": [
    "reviews = pd.read_csv(\"./Review_Data.csv\")"
   ]
  },
  {
   "cell_type": "code",
   "execution_count": 18,
   "metadata": {},
   "outputs": [
    {
     "data": {
      "text/html": [
       "<div>\n",
       "<style scoped>\n",
       "    .dataframe tbody tr th:only-of-type {\n",
       "        vertical-align: middle;\n",
       "    }\n",
       "\n",
       "    .dataframe tbody tr th {\n",
       "        vertical-align: top;\n",
       "    }\n",
       "\n",
       "    .dataframe thead th {\n",
       "        text-align: right;\n",
       "    }\n",
       "</style>\n",
       "<table border=\"1\" class=\"dataframe\">\n",
       "  <thead>\n",
       "    <tr style=\"text-align: right;\">\n",
       "      <th></th>\n",
       "      <th>Unnamed: 0</th>\n",
       "      <th>title</th>\n",
       "      <th>rating</th>\n",
       "      <th>content</th>\n",
       "    </tr>\n",
       "  </thead>\n",
       "  <tbody>\n",
       "    <tr>\n",
       "      <th>0</th>\n",
       "      <td>0</td>\n",
       "      <td>\\r\\nPremium phone at budget price, loved it\\r\\n</td>\n",
       "      <td>5</td>\n",
       "      <td>Points to know before buying, got it for 17k: ...</td>\n",
       "    </tr>\n",
       "    <tr>\n",
       "      <th>1</th>\n",
       "      <td>1</td>\n",
       "      <td>\\r\\nBest 16k phone\\r\\n</td>\n",
       "      <td>5</td>\n",
       "      <td>Absolute value for money mobile phone. Snappy ...</td>\n",
       "    </tr>\n",
       "  </tbody>\n",
       "</table>\n",
       "</div>"
      ],
      "text/plain": [
       "   Unnamed: 0                                            title  rating  \\\n",
       "0           0  \\r\\nPremium phone at budget price, loved it\\r\\n       5   \n",
       "1           1                           \\r\\nBest 16k phone\\r\\n       5   \n",
       "\n",
       "                                             content  \n",
       "0  Points to know before buying, got it for 17k: ...  \n",
       "1  Absolute value for money mobile phone. Snappy ...  "
      ]
     },
     "execution_count": 18,
     "metadata": {},
     "output_type": "execute_result"
    }
   ],
   "source": [
    "reviews.head(2)"
   ]
  },
  {
   "cell_type": "code",
   "execution_count": 30,
   "metadata": {},
   "outputs": [
    {
     "data": {
      "text/html": [
       "<div>\n",
       "<style scoped>\n",
       "    .dataframe tbody tr th:only-of-type {\n",
       "        vertical-align: middle;\n",
       "    }\n",
       "\n",
       "    .dataframe tbody tr th {\n",
       "        vertical-align: top;\n",
       "    }\n",
       "\n",
       "    .dataframe thead th {\n",
       "        text-align: right;\n",
       "    }\n",
       "</style>\n",
       "<table border=\"1\" class=\"dataframe\">\n",
       "  <thead>\n",
       "    <tr style=\"text-align: right;\">\n",
       "      <th></th>\n",
       "      <th>title</th>\n",
       "      <th>rating</th>\n",
       "      <th>content</th>\n",
       "    </tr>\n",
       "  </thead>\n",
       "  <tbody>\n",
       "    <tr>\n",
       "      <th>0</th>\n",
       "      <td>\\r\\nPremium phone at budget price, loved it\\r\\n</td>\n",
       "      <td>5</td>\n",
       "      <td>Points to know before buying, got it for 17k: ...</td>\n",
       "    </tr>\n",
       "    <tr>\n",
       "      <th>1</th>\n",
       "      <td>\\r\\nBest 16k phone\\r\\n</td>\n",
       "      <td>5</td>\n",
       "      <td>Absolute value for money mobile phone. Snappy ...</td>\n",
       "    </tr>\n",
       "    <tr>\n",
       "      <th>2</th>\n",
       "      <td>\\r\\nOverall very good phone, 25w is -ve comapr...</td>\n",
       "      <td>4</td>\n",
       "      <td>Everything about this phone is great: the disp...</td>\n",
       "    </tr>\n",
       "    <tr>\n",
       "      <th>3</th>\n",
       "      <td>\\r\\nGreat product with great deal\\r\\n</td>\n",
       "      <td>5</td>\n",
       "      <td>Bought it with exchange offer during prime day...</td>\n",
       "    </tr>\n",
       "    <tr>\n",
       "      <th>4</th>\n",
       "      <td>\\r\\nDisplay and sound is superb. Camera is jus...</td>\n",
       "      <td>3</td>\n",
       "      <td>Display is best as usual for samsung phones. S...</td>\n",
       "    </tr>\n",
       "  </tbody>\n",
       "</table>\n",
       "</div>"
      ],
      "text/plain": [
       "                                               title  rating  \\\n",
       "0    \\r\\nPremium phone at budget price, loved it\\r\\n       5   \n",
       "1                             \\r\\nBest 16k phone\\r\\n       5   \n",
       "2  \\r\\nOverall very good phone, 25w is -ve comapr...       4   \n",
       "3              \\r\\nGreat product with great deal\\r\\n       5   \n",
       "4  \\r\\nDisplay and sound is superb. Camera is jus...       3   \n",
       "\n",
       "                                             content  \n",
       "0  Points to know before buying, got it for 17k: ...  \n",
       "1  Absolute value for money mobile phone. Snappy ...  \n",
       "2  Everything about this phone is great: the disp...  \n",
       "3  Bought it with exchange offer during prime day...  \n",
       "4  Display is best as usual for samsung phones. S...  "
      ]
     },
     "execution_count": 30,
     "metadata": {},
     "output_type": "execute_result"
    }
   ],
   "source": [
    "reviews = reviews.drop(reviews.columns[0], axis = 1)\n",
    "reviews.head()"
   ]
  },
  {
   "cell_type": "code",
   "execution_count": 36,
   "metadata": {},
   "outputs": [
    {
     "data": {
      "text/html": [
       "<div>\n",
       "<style scoped>\n",
       "    .dataframe tbody tr th:only-of-type {\n",
       "        vertical-align: middle;\n",
       "    }\n",
       "\n",
       "    .dataframe tbody tr th {\n",
       "        vertical-align: top;\n",
       "    }\n",
       "\n",
       "    .dataframe thead th {\n",
       "        text-align: right;\n",
       "    }\n",
       "</style>\n",
       "<table border=\"1\" class=\"dataframe\">\n",
       "  <thead>\n",
       "    <tr style=\"text-align: right;\">\n",
       "      <th></th>\n",
       "      <th>title</th>\n",
       "      <th>rating</th>\n",
       "      <th>body</th>\n",
       "    </tr>\n",
       "  </thead>\n",
       "  <tbody>\n",
       "    <tr>\n",
       "      <th>0</th>\n",
       "      <td>\\r\\nPremium phone at budget price, loved it\\r\\n</td>\n",
       "      <td>5</td>\n",
       "      <td>Points to know before buying, got it for 17k: ...</td>\n",
       "    </tr>\n",
       "    <tr>\n",
       "      <th>1</th>\n",
       "      <td>\\r\\nBest 16k phone\\r\\n</td>\n",
       "      <td>5</td>\n",
       "      <td>Absolute value for money mobile phone. Snappy ...</td>\n",
       "    </tr>\n",
       "    <tr>\n",
       "      <th>2</th>\n",
       "      <td>\\r\\nOverall very good phone, 25w is -ve comapr...</td>\n",
       "      <td>4</td>\n",
       "      <td>Everything about this phone is great: the disp...</td>\n",
       "    </tr>\n",
       "    <tr>\n",
       "      <th>3</th>\n",
       "      <td>\\r\\nGreat product with great deal\\r\\n</td>\n",
       "      <td>5</td>\n",
       "      <td>Bought it with exchange offer during prime day...</td>\n",
       "    </tr>\n",
       "    <tr>\n",
       "      <th>4</th>\n",
       "      <td>\\r\\nDisplay and sound is superb. Camera is jus...</td>\n",
       "      <td>3</td>\n",
       "      <td>Display is best as usual for samsung phones. S...</td>\n",
       "    </tr>\n",
       "  </tbody>\n",
       "</table>\n",
       "</div>"
      ],
      "text/plain": [
       "                                               title  rating  \\\n",
       "0    \\r\\nPremium phone at budget price, loved it\\r\\n       5   \n",
       "1                             \\r\\nBest 16k phone\\r\\n       5   \n",
       "2  \\r\\nOverall very good phone, 25w is -ve comapr...       4   \n",
       "3              \\r\\nGreat product with great deal\\r\\n       5   \n",
       "4  \\r\\nDisplay and sound is superb. Camera is jus...       3   \n",
       "\n",
       "                                                body  \n",
       "0  Points to know before buying, got it for 17k: ...  \n",
       "1  Absolute value for money mobile phone. Snappy ...  \n",
       "2  Everything about this phone is great: the disp...  \n",
       "3  Bought it with exchange offer during prime day...  \n",
       "4  Display is best as usual for samsung phones. S...  "
      ]
     },
     "execution_count": 36,
     "metadata": {},
     "output_type": "execute_result"
    }
   ],
   "source": [
    "reviews.rename(columns = {'content': 'body'}, inplace = True)\n",
    "reviews.head()"
   ]
  },
  {
   "cell_type": "code",
   "execution_count": 60,
   "metadata": {},
   "outputs": [
    {
     "data": {
      "text/html": [
       "<div>\n",
       "<style scoped>\n",
       "    .dataframe tbody tr th:only-of-type {\n",
       "        vertical-align: middle;\n",
       "    }\n",
       "\n",
       "    .dataframe tbody tr th {\n",
       "        vertical-align: top;\n",
       "    }\n",
       "\n",
       "    .dataframe thead th {\n",
       "        text-align: right;\n",
       "    }\n",
       "</style>\n",
       "<table border=\"1\" class=\"dataframe\">\n",
       "  <thead>\n",
       "    <tr style=\"text-align: right;\">\n",
       "      <th></th>\n",
       "      <th>title</th>\n",
       "      <th>rating</th>\n",
       "      <th>body</th>\n",
       "    </tr>\n",
       "  </thead>\n",
       "  <tbody>\n",
       "    <tr>\n",
       "      <th>0</th>\n",
       "      <td>\\r\\nPremium phone at budget price, loved it\\r\\n</td>\n",
       "      <td>5</td>\n",
       "      <td>Points to know before buying, got it for 17k: ...</td>\n",
       "    </tr>\n",
       "    <tr>\n",
       "      <th>1</th>\n",
       "      <td>\\r\\nBest 16k phone\\r\\n</td>\n",
       "      <td>5</td>\n",
       "      <td>Absolute value for money mobile phone. Snappy ...</td>\n",
       "    </tr>\n",
       "    <tr>\n",
       "      <th>2</th>\n",
       "      <td>\\r\\nOverall very good phone, 25w is -ve comapr...</td>\n",
       "      <td>4</td>\n",
       "      <td>Everything about this phone is great: the disp...</td>\n",
       "    </tr>\n",
       "    <tr>\n",
       "      <th>3</th>\n",
       "      <td>\\r\\nGreat product with great deal\\r\\n</td>\n",
       "      <td>5</td>\n",
       "      <td>Bought it with exchange offer during prime day...</td>\n",
       "    </tr>\n",
       "    <tr>\n",
       "      <th>4</th>\n",
       "      <td>\\r\\nDisplay and sound is superb. Camera is jus...</td>\n",
       "      <td>3</td>\n",
       "      <td>Display is best as usual for samsung phones. S...</td>\n",
       "    </tr>\n",
       "    <tr>\n",
       "      <th>...</th>\n",
       "      <td>...</td>\n",
       "      <td>...</td>\n",
       "      <td>...</td>\n",
       "    </tr>\n",
       "    <tr>\n",
       "      <th>75</th>\n",
       "      <td>Awesome!</td>\n",
       "      <td>5</td>\n",
       "      <td>Great buy if bought on offers...</td>\n",
       "    </tr>\n",
       "    <tr>\n",
       "      <th>76</th>\n",
       "      <td>Best phone</td>\n",
       "      <td>5</td>\n",
       "      <td>Worth buy</td>\n",
       "    </tr>\n",
       "    <tr>\n",
       "      <th>77</th>\n",
       "      <td>Good phone</td>\n",
       "      <td>5</td>\n",
       "      <td>Very good phone with best quality camera\\r\\nBe...</td>\n",
       "    </tr>\n",
       "    <tr>\n",
       "      <th>78</th>\n",
       "      <td>Heating problem</td>\n",
       "      <td>3</td>\n",
       "      <td>Facing heating problem on normal phone usage. ...</td>\n",
       "    </tr>\n",
       "    <tr>\n",
       "      <th>79</th>\n",
       "      <td>A</td>\n",
       "      <td>5</td>\n",
       "      <td>Best all rounder mobile in this price</td>\n",
       "    </tr>\n",
       "  </tbody>\n",
       "</table>\n",
       "<p>80 rows × 3 columns</p>\n",
       "</div>"
      ],
      "text/plain": [
       "                                                title  rating  \\\n",
       "0     \\r\\nPremium phone at budget price, loved it\\r\\n       5   \n",
       "1                              \\r\\nBest 16k phone\\r\\n       5   \n",
       "2   \\r\\nOverall very good phone, 25w is -ve comapr...       4   \n",
       "3               \\r\\nGreat product with great deal\\r\\n       5   \n",
       "4   \\r\\nDisplay and sound is superb. Camera is jus...       3   \n",
       "..                                                ...     ...   \n",
       "75                                           Awesome!       5   \n",
       "76                                         Best phone       5   \n",
       "77                                         Good phone       5   \n",
       "78                                    Heating problem       3   \n",
       "79                                                  A       5   \n",
       "\n",
       "                                                 body  \n",
       "0   Points to know before buying, got it for 17k: ...  \n",
       "1   Absolute value for money mobile phone. Snappy ...  \n",
       "2   Everything about this phone is great: the disp...  \n",
       "3   Bought it with exchange offer during prime day...  \n",
       "4   Display is best as usual for samsung phones. S...  \n",
       "..                                                ...  \n",
       "75                   Great buy if bought on offers...  \n",
       "76                                          Worth buy  \n",
       "77  Very good phone with best quality camera\\r\\nBe...  \n",
       "78  Facing heating problem on normal phone usage. ...  \n",
       "79              Best all rounder mobile in this price  \n",
       "\n",
       "[80 rows x 3 columns]"
      ]
     },
     "execution_count": 60,
     "metadata": {},
     "output_type": "execute_result"
    }
   ],
   "source": [
    "reviews"
   ]
  },
  {
   "cell_type": "code",
   "execution_count": 62,
   "metadata": {},
   "outputs": [],
   "source": [
    "rvwStruct = {\"reviews\": []}\n",
    "\n",
    "for i in range(len(reviews['title'])):\n",
    "    inst = reviews.iloc[i]\n",
    "    rvw = {\"rating\": inst['rating'], \"title\": inst['title'], \"body\": inst['body']}\n",
    "    rvwStruct['reviews'].append(rvw)"
   ]
  },
  {
   "cell_type": "code",
   "execution_count": 64,
   "metadata": {},
   "outputs": [
    {
     "data": {
      "text/plain": [
       "[{'rating': 5,\n",
       "  'title': '\\r\\nPremium phone at budget price, loved it\\r\\n',\n",
       "  'body': \"Points to know before buying, got it for 17k: 1. Ui and updates 4.5/5, it's smooth and responsive no complains 2. Camera 4.6/5, comparable with Samsung midrange phones 3. Battery 4.2/5, I charge my phone upto 80% It takes around 45 min for...\"},\n",
       " {'rating': 5,\n",
       "  'title': '\\r\\nBest 16k phone\\r\\n',\n",
       "  'body': 'Absolute value for money mobile phone. Snappy interface, monstrous battery(Screenshot attached - Without SIM). Good set of cameras. Clean One UI. Samsung wallet feature. Good in hand feel.'},\n",
       " {'rating': 4,\n",
       "  'title': '\\r\\nOverall very good phone, 25w is -ve comapred to competitors.\\r\\n',\n",
       "  'body': 'Everything about this phone is great: the display, camera, speed, and battery life. The only drawback is the slow charging speed it charges at 25W, which is quite low compared to the competition, as even phones priced at 10,000 INR now feature 33W fast charging. If this...'},\n",
       " {'rating': 5,\n",
       "  'title': '\\r\\nGreat product with great deal\\r\\n',\n",
       "  'body': 'Bought it with exchange offer during prime day sell. Performance is good. Mainly using it for listening to music. Audio quality is good. Camera is also decent. Feels bulky and sturdy. Battery backup is just awesome. Call quality is also good wherein if you put call over...'},\n",
       " {'rating': 3,\n",
       "  'title': '\\r\\nDisplay and sound is superb. Camera is just average\\r\\n',\n",
       "  'body': 'Display is best as usual for samsung phones. Sound is also good as it supports Dolby Atmos. I am somewhat disappointed with the camera. My galaxy M31 shoots far better photos than this M35. Details are missing in photos. Phone is also too heavy to be managed by one hand...'},\n",
       " {'rating': 5,\n",
       "  'title': '\\r\\nReally solid performer at this price point\\r\\n',\n",
       "  'body': \"There are many phones available at this price range, it's really confusing which one to buy 😕 Had my eyes on OnePlus nord 3 as it was selling at 19k few days back ....but changed my mind after getting reminded about the infamous green line issue of OnePlus devices😂...\"},\n",
       " {'rating': 5,\n",
       "  'title': '\\r\\nLove the samsung brand\\r\\n',\n",
       "  'body': 'Samaung brand is everything for phones and tv. M35 is handy phone inspite of its size and weight. Display is good. Camera is good. Battery performance is good. I have been using m30s for 5 years. I loved it. Thats why i go with M series. M35 is perfect choice. Go for it.'},\n",
       " {'rating': 3,\n",
       "  'title': '\\r\\nDecent product according  to 16k price\\r\\n',\n",
       "  'body': 'Battery backup n super amoled screen could hv been better! Charging speed is slow plus battery consumption is more even with day to day activity Even though screen is super amoled it feels like some cheap blurry screen specially when consuming youtube or...'},\n",
       " {'rating': 4,\n",
       "  'title': '\\r\\nVery good display, connectivity, no heating\\r\\n',\n",
       "  'body': \"This phone is very good first time before purchasing i was thinking about heat and lags, but after buying I've not seen those. Battery backup purpouse i bouth it, writing from this mobile also. Battery is little bit disappointing, it should go atleast 1.5 days. I'm not...\"},\n",
       " {'rating': 5,\n",
       "  'title': '\\r\\nSo far so good\\r\\n',\n",
       "  'body': 'Bought this phone with a bit of trepidation because 3 of the 7 Samsung phones I have bought prior to this one - either for myself or family - have developed a screen issue, Although only one was serious enough to require a visit to the service center. Thought of switching...'}]"
      ]
     },
     "execution_count": 64,
     "metadata": {},
     "output_type": "execute_result"
    }
   ],
   "source": [
    "rvwStruct['reviews'][:10]"
   ]
  },
  {
   "cell_type": "code",
   "execution_count": 71,
   "metadata": {},
   "outputs": [],
   "source": [
    "prompt = \"\"\"You are an advanced language model tasked with analyzing customer reviews for a specific product. The reviews include a rating out of 5, a title, and the main body of the review. Your objective is to extract meaningful insights that will help a potential buyer make an informed decision about whether to purchase the product. Your analysis should provide:\n",
    "\n",
    "Overall Sentiment Analysis:\n",
    "\n",
    "Summarize the general sentiment of the reviews (positive, negative, or mixed).\n",
    "Highlight any patterns or trends in the ratings (e.g., most reviews are 4 stars, consistent 5-star ratings, frequent 1-star complaints).\n",
    "Pros:\n",
    "\n",
    "Identify and list the most common positive aspects mentioned by reviewers.\n",
    "Provide specific examples of features, qualities, or experiences that customers appreciated.\n",
    "Cons:\n",
    "\n",
    "Identify and list the most common negative aspects mentioned by reviewers.\n",
    "Highlight any recurring issues, complaints, or dissatisfaction points raised by multiple reviewers.\n",
    "Key Insights:\n",
    "\n",
    "Extract any additional insights that do not fall strictly under pros or cons but are important for understanding the product (e.g., variations in product performance, unique use cases, or specific customer needs addressed).\n",
    "Note any discrepancies between high ratings and negative comments or low ratings with positive comments.\n",
    "Decision-Making Summary:\n",
    "\n",
    "Provide a final summary that encapsulates the overall crux of the reviews.\n",
    "Offer a balanced view that weighs the pros and cons to assist the potential buyer in making an informed decision.\n",
    "Input Format:\n",
    "\n",
    "Rating: [Rating out of 5]\n",
    "Title: [Title of the review]\n",
    "Body: [Body of the review]\n",
    "Output Format:\n",
    "\n",
    "Overall Sentiment Analysis:\n",
    "[Summary of general sentiment and rating trends]\n",
    "Pros:\n",
    "[List of pros with examples]\n",
    "Cons:\n",
    "[List of cons with examples]\n",
    "Key Insights:\n",
    "[Additional important insights]\n",
    "Decision-Making Summary:\n",
    "[Balanced summary to aid in decision-making]\n",
    "Here are the reviews:  \n",
    "\"\"\""
   ]
  },
  {
   "cell_type": "code",
   "execution_count": 72,
   "metadata": {},
   "outputs": [
    {
     "data": {
      "text/plain": [
       "str"
      ]
     },
     "execution_count": 72,
     "metadata": {},
     "output_type": "execute_result"
    }
   ],
   "source": [
    "type(prompt)"
   ]
  },
  {
   "cell_type": "code",
   "execution_count": 74,
   "metadata": {},
   "outputs": [
    {
     "data": {
      "text/plain": [
       "'{\\'reviews\\': [{\\'rating\\': 5, \\'title\\': \\'\\\\r\\\\nPremium phone at budget price, loved it\\\\r\\\\n\\', \\'body\\': \"Points to know before buying, got it for 17k: 1. Ui and updates 4.5/5, it\\'s smooth and responsive no complains 2. Camera 4.6/5, comparable with Samsung midrange phones 3. Battery 4.2/5, I charge my phone upto 80% It takes around 45 min for...\"}, {\\'rating\\': 5, \\'title\\': \\'\\\\r\\\\nBest 16k phone\\\\r\\\\n\\', \\'body\\': \\'Absolute value for money mobile phone. Snappy interface, monstrous battery(Screenshot attached - Without SIM). Good set of cameras. Clean One UI. Samsung wallet feature. Good in hand feel.\\'}, {\\'rating\\': 4, \\'title\\': \\'\\\\r\\\\nOverall very good phone, 25w is -ve comapred to competitors.\\\\r\\\\n\\', \\'body\\': \\'Everything about this phone is great: the display, camera, speed, and battery life. The only drawback is the slow charging speed it charges at 25W, which is quite low compared to the competition, as even phones priced at 10,000 INR now feature 33W fast charging. If this...\\'}, {\\'rating\\': 5, \\'title\\': \\'\\\\r\\\\nGreat product with great deal\\\\r\\\\n\\', \\'body\\': \\'Bought it with exchange offer during prime day sell. Performance is good. Mainly using it for listening to music. Audio quality is good. Camera is also decent. Feels bulky and sturdy. Battery backup is just awesome. Call quality is also good wherein if you put call over...\\'}, {\\'rating\\': 3, \\'title\\': \\'\\\\r\\\\nDisplay and sound is superb. Camera is just average\\\\r\\\\n\\', \\'body\\': \\'Display is best as usual for samsung phones. Sound is also good as it supports Dolby Atmos. I am somewhat disappointed with the camera. My galaxy M31 shoots far better photos than this M35. Details are missing in photos. Phone is also too heavy to be managed by one hand...\\'}, {\\'rating\\': 5, \\'title\\': \\'\\\\r\\\\nReally solid performer at this price point\\\\r\\\\n\\', \\'body\\': \"There are many phones available at this price range, it\\'s really confusing which one to buy 😕 Had my eyes on OnePlus nord 3 as it was selling at 19k few days back ....but changed my mind after getting reminded about the infamous green line issue of OnePlus devices😂...\"}, {\\'rating\\': 5, \\'title\\': \\'\\\\r\\\\nLove the samsung brand\\\\r\\\\n\\', \\'body\\': \\'Samaung brand is everything for phones and tv. M35 is handy phone inspite of its size and weight. Display is good. Camera is good. Battery performance is good. I have been using m30s for 5 years. I loved it. Thats why i go with M series. M35 is perfect choice. Go for it.\\'}, {\\'rating\\': 3, \\'title\\': \\'\\\\r\\\\nDecent product according  to 16k price\\\\r\\\\n\\', \\'body\\': \\'Battery backup n super amoled screen could hv been better! Charging speed is slow plus battery consumption is more even with day to day activity Even though screen is super amoled it feels like some cheap blurry screen specially when consuming youtube or...\\'}, {\\'rating\\': 4, \\'title\\': \\'\\\\r\\\\nVery good display, connectivity, no heating\\\\r\\\\n\\', \\'body\\': \"This phone is very good first time before purchasing i was thinking about heat and lags, but after buying I\\'ve not seen those. Battery backup purpouse i bouth it, writing from this mobile also. Battery is little bit disappointing, it should go atleast 1.5 days. I\\'m not...\"}, {\\'rating\\': 5, \\'title\\': \\'\\\\r\\\\nSo far so good\\\\r\\\\n\\', \\'body\\': \\'Bought this phone with a bit of trepidation because 3 of the 7 Samsung phones I have bought prior to this one - either for myself or family - have developed a screen issue, Although only one was serious enough to require a visit to the service center. Thought of switching...\\'}, {\\'rating\\': 4, \\'title\\': \\'\\\\r\\\\nDecent phone\\\\r\\\\n\\', \\'body\\': \\'YouTube 2160 60fps is not supported in this device.\\\\r\\\\nDevice is bulky and heavy\\'}, {\\'rating\\': 4, \\'title\\': \\'\\\\r\\\\nSatisfied\\\\r\\\\n\\', \\'body\\': \\'Good for normal use. Selfie camera is below average.\\'}, {\\'rating\\': 4, \\'title\\': \\'\\\\r\\\\nAverage phone\\\\r\\\\n\\', \\'body\\': \\'Go for display and samsung one ui software. Camera is average. Phone has more weight.\\'}, {\\'rating\\': 4, \\'title\\': \\'\\\\r\\\\nVelu for money\\\\r\\\\n\\', \\'body\\': \\'Best samsung mobail , hardware and software\\'}, {\\'rating\\': 4, \\'title\\': \\'\\\\r\\\\nEverything is good except charging speed\\\\r\\\\n\\', \\'body\\': \\'Why only 25w charging speed it should be 100 like other phones.No charger provided\\'}, {\\'rating\\': 4, \\'title\\': \\'\\\\r\\\\nValue for money\\\\r\\\\n\\', \\'body\\': \\'Overall performance good\\'}, {\\'rating\\': 5, \\'title\\': \\'\\\\r\\\\nAmazing\\\\r\\\\n\\', \\'body\\': \"It\\'s works just as they advertised it . THE DISPLAY is really good , after all it\\'s a SAMSUNG OLED panel , the colour and viewing angles are astonishing . THE SOUND is crisp it\\'s not too loud , it\\'s on the comforting side but it is very crisp and it...\"}, {\\'rating\\': 5, \\'title\\': \\'\\\\r\\\\nbest budget phone till now from sumsung\\\\r\\\\n\\', \\'body\\': \\'just go for it if you want it for normal usage/business use. overall balanced phone with loads of useful features plus good software support /experience and made in India! {not for heavy gaming bros}people complaining about weight but after few days you wont notice the...\\'}, {\\'rating\\': 5, \\'title\\': \\'\\\\r\\\\nAlmost Paisa Vasool phone\\\\r\\\\n\\', \\'body\\': \\'i got my phone on 21st July 2024 Samsung Galaxy M35 5G , 6GB & 128 GB (DayBreak Blue). After using my phone for 5 days i m writing this review.. This is a great value for money phone. The screen is fluid ,punchy and razor sharp with good brightness even in...\\'}, {\\'rating\\': 5, \\'title\\': \\'\\\\r\\\\nGood phone under 20k\\\\r\\\\n\\', \\'body\\': \\'Overall a very good phone. Bought for my mom & she is happy with the performance. Screen & build quality is also good. Battery backup last easily for 1.5 days for moderate user. Dual speakers are load clear & great. Camera is also good with all basic & fun...\\'}, {\\'rating\\': 5, \\'title\\': \\'\\\\r\\\\nvalue for money purchase\\\\r\\\\n\\', \\'body\\': \\'bought this for my mother , got the 256 gb version for 19 k during sale, the device is sturdy, battery backup is easily 1.5 days, camera images quite good for a device at this range, sharp voice output, vivid display. heating issue is minor its better if you dont play games...\\'}, {\\'rating\\': 5, \\'title\\': \\'\\\\r\\\\nFabulous Mobile in Budget Price\\\\r\\\\n\\', \\'body\\': \\'I bought this mobile for my father and he was so happy to get this mobile. I am pointing out some major things about this mobile. 1) Camera - Good in this budget price. It has Sony sensor so capturing good quality photos. 4/5 2) Display - Super Amoled with...\\'}, {\\'rating\\': 5, \\'title\\': \\'\\\\r\\\\nSamsung m35\\\\r\\\\n\\', \\'body\\': \\'Best budget phone under 16k . Good camera Good screen Good battery backup Good sound Weight is littile more compare to other phone buy you will feel someting strong in your hand. Back panel looks cool. It feel hot when you use phone...\\'}, {\\'rating\\': 3, \\'title\\': \\'\\\\r\\\\nMixed feelings...\\\\r\\\\n\\', \\'body\\': \"This mobile\\'s battery performance is disappointing, as it drains quickly. My previous Vivo V21 had excellent battery life. Additionally, this mobile heats up during normal activities like watching YouTube videos. On the positive side, the camera quality is decent for the...\"}, {\\'rating\\': 5, \\'title\\': \\'\\\\r\\\\nBest beast under 20K\\\\r\\\\n\\', \\'body\\': \\'This is a good \"Beast\" mobile under 20k (my configuration: 8 GB/128 GB). I bought this for my wife and she is comparing it with her previous mobile S20FE and giving it 5/5. Best product for normal day-to-day usage with a bigger battery, great display, and good camera setup....\\'}, {\\'rating\\': 3, \\'title\\': \\'\\\\r\\\\nTakes too much time to charge\\\\r\\\\n\\', \\'body\\': \\'Purchased in prime day sale. Everything is fine. As Charger has not been provided by Samsung, So, I am charging it with the my old device Charger, which is 33W type A-C. It takes three hours to reach from 10 % to 100%. This is the biggest problem I am facing with this...\\'}, {\\'rating\\': 5, \\'title\\': \\'\\\\r\\\\nGreat deal 👌\\\\r\\\\n\\', \\'body\\': \\'It works amazingly great. Love the finish even though has a plastic back ,but gives a premium vibe Wille holding . Overall phone and specs are good but I found some bugs here and there (as it is freshly launched) , but will surely get fixed in the upcoming updates by Samsung\\'}, {\\'rating\\': 5, \\'title\\': \\'\\\\r\\\\nMonster # Satisfied # Good Model.\\\\r\\\\n\\', \\'body\\': \\'The Galaxy M35 5g big Monster\\\\r\\\\nDesign. 4/5\\\\r\\\\nDisplay . 4.5/5\\\\r\\\\nCamera 📷 4/5\\\\r\\\\nPerformance. 5/5\\\\r\\\\nBattery backup🔋. 5/5\\\\r\\\\nGorilla victus+ Glass\\\\r\\\\nFeel better than reviewed videos.\\\\r\\\\nIam using Galaxy M51 from 4 years almost.\\'}, {\\'rating\\': 5, \\'title\\': \\'\\\\r\\\\nGood phone and Amazon offer\\\\r\\\\n\\', \\'body\\': \\'Good midrange phone below 20k range hope samsung will give stable 4yr updates.\\\\r\\\\nPros :\\\\r\\\\nBattery\\\\r\\\\nOS\\\\r\\\\nCons :\\\\r\\\\nIp rating\\\\r\\\\nNo inbox charger\\'}, {\\'rating\\': 5, \\'title\\': \\'\\\\r\\\\nGood\\\\r\\\\n\\', \\'body\\': \\'Photos clicked are decent, Little bit heavier, charges slowly, no power adaptor given, otherwise good phone.\\'}, {\\'rating\\': 5, \\'title\\': \\'Best camera phone\\', \\'body\\': \\'Smooth display, best selfi and primary camera, look sexy , no leg problem, go ahead with this samsung phone\\'}, {\\'rating\\': 5, \\'title\\': \\'Good Phone\\', \\'body\\': \"Can\\'t afford A35 but its ditto like it, casual heating, Exynos Heater Processor won\\'t create issues if you use it casually, No Games, Avoid 120hz, lower the brightness, consistent use of 5g decrease the🔋 life, I get 9hrs, 25w charger charges it in 100minutes\"}, {\\'rating\\': 5, \\'title\\': \\'Very good phone, good looking\\', \\'body\\': \\'Phone is good but amazon did not provide any cashback on this which they said to give to the earlier Samsung M series user\\'}, {\\'rating\\': 5, \\'title\\': \\'Best Phone from Samsung\\', \\'body\\': \\'Display 5/5\\\\r\\\\nCamera 3.5/5\\\\r\\\\nBattery 4.5/5\\\\r\\\\nPerformance 5/5\\\\r\\\\nSpeakers 5/5\\\\r\\\\nOver all experience 4.5/5\\\\r\\\\nOnly cons is\\\\r\\\\n25W slow charging\\\\r\\\\nSlow Camera shutter\\\\r\\\\nNo charger, no screen guard, no case\\\\r\\\\nAmazon didnot provide a proper invoice mentioning the IMEI number\\\\r\\\\nThe outer delivery bag was damaged but I still accepted the parcel. Bill/invoice missing. IMEI number missing on the soft copy invoice\\'}, {\\'rating\\': 5, \\'title\\': \\'Good phone under budget\\', \\'body\\': \"I was using m31 and now this is my upgrade in M series only and I\\'ve got so many upgrades in one ui , and the ui is very much comfortable.\"}, {\\'rating\\': 5, \\'title\\': \\'Excellent Device\\', \\'body\\': \\'This is a very good device I am loving this the overall performance, camera , size, screen is very good. I am very much impressed with this master piece from samsung, the best phone of M series.\\'}, {\\'rating\\': 4, \\'title\\': \\'Just go for it 👍\\', \\'body\\': \\'Pros:\\\\r\\\\nExcellent Performance with Exynos 1380 octa-core processor.. 6.6-inch FHD+ Super AMOLED display with a 1080×2340 pixels resolution,120Hz refresh rate,Corning Gorilla Glass Victus+ layer, and 1,000 nits peak brightness. Triple camera setup with a 50MP main camera, an 8MP ultra-wide lens, and a 2MP macro lens.The 13MP front camera is Good.The rear camera can shoot 4K videos at 30fps.6000mAh Battery with Superfast 25W charging speeds..\\\\r\\\\nDolby Atmos, Knox Vault security, Samsung Wallet, and a vapour cooling chamber &\\\\r\\\\n4 years of OS upgrades and 5 years of security patches with this phone..\\\\r\\\\nCons:\\\\r\\\\n3.5mm Headphone Jack not available.\\'}, {\\'rating\\': 3, \\'title\\': \"Don\\'t buy this phone for the camera\", \\'body\\': \"Front camera is very low quality.  I am very disappointed.\\\\r\\\\n  Front Camera- 2/5\\\\r\\\\n  Rear Camera - 3/5\\\\r\\\\n  Battery - 3/5\\\\r\\\\n  Performance - 3/5\\\\r\\\\n  Display - 4/5\\\\r\\\\n  Don\\'t buy this phone for the camera 😔😔😔😔😔\"}, {\\'rating\\': 5, \\'title\\': \\'For samsung fan\\', \\'body\\': \"Purchased 1week ago.. Front Camara is ok back is good. Currently working smoothly. If you using more then hour feel phone is Heating. Most important adopter is not their with phone. Don\\'t know why Samsung is not providing. This is very disappointment. Hay samsung please re-think on this. Overall a good phone specially for Samsung users.\"}, {\\'rating\\': 5, \\'title\\': \\'Best in mobile in the price range\\', \\'body\\': \\'Best mobile in the price range ... camara is good and performance is good\\'}, {\\'rating\\': 5, \\'title\\': \\'At last punch hole display in budget from Samsung\\', \\'body\\': \\'Display, camera, processor, speakers, network all things are as per Samsung standards. It has NFC so can use samsung wallet for payment. Totally value for money if u can get 256 gb varient at around 20k. A must buy for Samsung fans.\\'}, {\\'rating\\': 5, \\'title\\': \\'Amazing Product At this price point.\\', \\'body\\': \"Just go for it. Don\\'t worry about the bazels or phone weight because you\\'ll hardly notice it. Best phone under this category. Got same delivery in 7 hours amazing service by Amazon.\"}, {\\'rating\\': 5, \\'title\\': \\'Monster phone 🔥🔥🔥\\', \\'body\\': \\'The phone is good in its segment. Stereo speakers, amoled display with 120 Hz refresh rate, feature rich one ui.\\\\r\\\\nScreen: 4.5/5\\\\r\\\\nPerformance: 3.75/5\\\\r\\\\nBattery: 5/5\\\\r\\\\nCamera: 4/5\\\\r\\\\nBuild and design: 4/5\\\\r\\\\nBut no good lock module support, some bloatware but you can remove most of them.\\'}, {\\'rating\\': 5, \\'title\\': \\'Samsung is Back with their Real Monster\\', \\'body\\': \\'After a long time saw the best beast from Samsung.\\\\r\\\\nIts All Rounder except In Display finger Print under 20k.\\\\r\\\\nIn my opinion go for it and buy it..its really Worth....\\'}, {\\'rating\\': 5, \\'title\\': \\'Killer\\', \\'body\\': \\'Battery is awesome and very smooth.. overall good experience... charger should in the box..\\'}, {\\'rating\\': 5, \\'title\\': \\'Excellent mobile at this price range🙂\\', \\'body\\': \\'The phone is really good both performance wise and outlook design wise. Im sure this will not disappoint you for any reason. So anybody is looking to buy a mobile phone under 20k. Samsung Galaxy M35 is one among the best choice and you can go for it without any second thought.\\'}, {\\'rating\\': 5, \\'title\\': \\'Excellent\\', \\'body\\': \\'This phone is good in this price range Generally speaking a standard phone.\\\\xa0 Battery is obviously very good as this is 6000mAh.I really like the side mounted finger print sensor, good camera quality.\\'}, {\\'rating\\': 5, \\'title\\': \\'Smartphone related view\\', \\'body\\': \\'This smartphone looks very good\\\\r\\\\nNice camera quality\\\\r\\\\nFeatures is also good\\\\r\\\\nM35 5g really good phone\\\\r\\\\nI liked this phone I preferred purchase this phone\\'}, {\\'rating\\': 5, \\'title\\': \\'Best midrange phone.\\', \\'body\\': \\'Nice phone with some premiums touch.\\\\r\\\\nCamera, battery, interface, features are too good & no heating issue.\\\\r\\\\nBut some vibrations felt at back while playing music/video.\\\\r\\\\nOverall good phone to buy from Non-Chinese brand.\\'}, {\\'rating\\': 5, \\'title\\': \\'Good phone for normal user\\', \\'body\\': \"Excellent phone, it\\'s for normal user\"}, {\\'rating\\': 5, \\'title\\': \\'Just go for it! Budget + Samsung\\', \\'body\\': \\'If you want latest budget Samsung phone then just go for it.\\'}, {\\'rating\\': 5, \\'title\\': \\'Super duper mobile all in one m35 mobile\\', \\'body\\': \\'Samsung m35 mobile is very good all round mobile\\'}, {\\'rating\\': 5, \\'title\\': \\'Best Performing Phone Under 20k Budget\\', \\'body\\': \\'Excellent phone with fast charging and very good battery life.\\\\r\\\\nPros:\\\\r\\\\n• Awesome camera quality\\\\r\\\\n• Large display\\\\r\\\\n• Best Performance\\\\r\\\\n• No hanging issues\\\\r\\\\n• Value for money\\'}, {\\'rating\\': 5, \\'title\\': \\'Good Phone\\', \\'body\\': \\'Very good camera with excellent screen\\\\r\\\\nGood batery\\\\r\\\\nLong lasting\\\\r\\\\nNo heating at all\\\\r\\\\nBest in lite series\\'}, {\\'rating\\': 5, \\'title\\': \\'All Rounder Mid Range Smartphone in 2024\\', \\'body\\': \\'LIKES 👍\\\\r\\\\nDisplay\\\\r\\\\nBattery\\\\r\\\\nCamera\\\\r\\\\nSoftware Optimization\\\\r\\\\nAll the best for purchase 🙌\\'}, {\\'rating\\': 5, \\'title\\': \\'100% Satisfied\\', \\'body\\': \\'Build Quality 👍🏻\\\\r\\\\nPerformance 👍🏻\\'}, {\\'rating\\': 3, \\'title\\': \\'All is ok\\', \\'body\\': \\'Battary life is not ok ,all is best .slight overheating . Actually battary life will be shown after 1 week. Even after 5 days I can say one day battary life that is with midarate use of YouTube and whatsapp . Worst battarylife.\\'}, {\\'rating\\': 5, \\'title\\': \\'Flagship killer\\', \\'body\\': \"Don\\'t worry about product its amazing nice phone in this budget\"}, {\\'rating\\': 5, \\'title\\': \\'One of Good phone to purchase\\', \\'body\\': \"I purchased it one week back. It\\'s all good except fast charging.\\\\r\\\\nBattery back up is quite good and last for 2-3 days. camera quality is also nice.\\\\r\\\\nOverall worth buying under this price.\"}, {\\'rating\\': 5, \\'title\\': \\'Much better than many\\', \\'body\\': \\'Good phone\\'}, {\\'rating\\': 5, \\'title\\': \\'\\\\r\\\\nValue for money phone\\\\r\\\\n\\', \\'body\\': \\'Great display  and battery. Work smooth in daily use, great value for money phone with 8GB RAM and 256 GB ROM for Samsung fans.\\'}, {\\'rating\\': 5, \\'title\\': \\'\\\\r\\\\nSuper phone in the range of 20k budget\\\\r\\\\n\\', \\'body\\': \\'I bought this on launch day 8/128 at 18500 with 3000 rs off and after using it for 7days im posting this. Look is really awesome amd feel like Iphone..Must go for it,  its is totally different from other series\\'}, {\\'rating\\': 5, \\'title\\': \\'\\\\r\\\\nSmooth experience\\\\r\\\\n\\', \\'body\\': \\'Clean, simple and feature rich UI\\'}, {\\'rating\\': 5, \\'title\\': \\'\\\\r\\\\nIn this budget ,its a decent buy\\\\r\\\\n\\', \\'body\\': \\'.\\'}, {\\'rating\\': 3, \\'title\\': \\'\\\\r\\\\nBattery drains fast\\\\r\\\\n\\', \\'body\\': \\'I have been using Samsung for the last 15 years. This phone cost is worth well but some features are missing. It has heating issue & drains fast. Camera clarity lacking.\\'}, {\\'rating\\': 5, \\'title\\': \\'\\\\r\\\\nDisplay\\\\r\\\\n\\', \\'body\\': \\'Good mobile\\'}, {\\'rating\\': 3, \\'title\\': \\'\\\\r\\\\nA decent phone with decent performance.\\\\r\\\\n\\', \\'body\\': \"Don\\'t expect very high for performance from this phone. Gaming is not recommended In this phone. Gaming is not its strength. The camera is good, clicks great photos. This is a phone for mature users.\"}, {\\'rating\\': 5, \\'title\\': \\'\\\\r\\\\nNice phone\\\\r\\\\n\\', \\'body\\': \\'Good Phone. Display is very good. Screen is also good for video.\\'}, {\\'rating\\': 5, \\'title\\': \\'\\\\r\\\\nSatisfied 😌!\\\\r\\\\n\\', \\'body\\': \\'Good software update promises !!!\\\\r\\\\nClean UI !!\\\\r\\\\nSuper built quality !!\\\\r\\\\nAmazing screen experience !!\\\\r\\\\nSounds great & loud !!\\\\r\\\\nSlightly heavy (due to 6000 mah battery) but feels good in hand!!\\\\r\\\\nIn display fingerprint sensor could have been added!!\\'}, {\\'rating\\': 3, \\'title\\': \\'\\\\r\\\\nBalanced phone at this price\\\\r\\\\n\\', \\'body\\': \\'Cons -\\\\r\\\\n1. Design\\\\r\\\\n2. Heavier\\\\r\\\\n3. 3.5 mm jack is missing\\\\r\\\\nPros -\\\\r\\\\n1. Camera\\\\r\\\\n2. Display\\\\r\\\\n3. Processor\\'}, {\\'rating\\': 5, \\'title\\': \\'Quality\\', \\'body\\': \\'I like The smartphone camera is Amazing And Screen is Smooth I like that\\'}, {\\'rating\\': 5, \\'title\\': \\'Little bit bulky but Overall a Good Phone\\', \\'body\\': \\'Little bit bulky but Overall a Good Phone\\\\r\\\\nBattery backup is not as expected like 6000Mah, battery running only 1Day in day 2 day uses\\'}, {\\'rating\\': 5, \\'title\\': \\'Very great phone\\', \\'body\\': \\'Phone having good Design\\\\r\\\\nClear camera\\\\r\\\\nGood Battery backup\\\\r\\\\nNice Performance\\'}, {\\'rating\\': 5, \\'title\\': \\'Good phone, long lasting battery, great sound\\', \\'body\\': \\'Good phone. I bought it for 19k. It is great for parents. Big screen and loud. Long lasting battery\\'}, {\\'rating\\': 5, \\'title\\': \\'Good phone\\', \\'body\\': \\'Good looking\\\\r\\\\nBig battery\\\\r\\\\nVery good processor\\\\r\\\\nNice camera\\\\r\\\\nGood build quality\\'}, {\\'rating\\': 5, \\'title\\': \\'Awesome!\\', \\'body\\': \\'Great buy if bought on offers...\\'}, {\\'rating\\': 5, \\'title\\': \\'Best phone\\', \\'body\\': \\'Worth buy\\'}, {\\'rating\\': 5, \\'title\\': \\'Good phone\\', \\'body\\': \\'Very good phone with best quality camera\\\\r\\\\nBest battery performance.\\\\r\\\\nLight weight\\\\r\\\\nBest performance\\'}, {\\'rating\\': 3, \\'title\\': \\'Heating problem\\', \\'body\\': \\'Facing heating problem on normal phone usage. Camera is ok and feel lack sometimes\\'}, {\\'rating\\': 5, \\'title\\': \\'A\\', \\'body\\': \\'Best all rounder mobile in this price\\'}]}'"
      ]
     },
     "execution_count": 74,
     "metadata": {},
     "output_type": "execute_result"
    }
   ],
   "source": [
    "str(rvwStruct)"
   ]
  },
  {
   "cell_type": "code",
   "execution_count": 76,
   "metadata": {},
   "outputs": [],
   "source": [
    "final_prompt = prompt + str(rvwStruct)\n",
    "response = model.generate_content(final_prompt)"
   ]
  },
  {
   "cell_type": "code",
   "execution_count": 77,
   "metadata": {},
   "outputs": [
    {
     "name": "stdout",
     "output_type": "stream",
     "text": [
      "## Samsung Galaxy M35 5G Review Analysis\n",
      "\n",
      "**Overall Sentiment Analysis:**\n",
      "\n",
      "The overall sentiment towards the Samsung Galaxy M35 5G is **positive**, with a majority of reviewers giving it a 4 or 5-star rating. The most common rating is 5 stars, indicating strong satisfaction among users. However, there are a few recurring complaints that pull the average down slightly. \n",
      "\n",
      "**Pros:**\n",
      "\n",
      "* **Excellent Display:** Reviewers consistently praise the Super AMOLED display, highlighting its vibrant colors, sharp resolution, and smooth 120Hz refresh rate. \n",
      "    * *Example:* \"The DISPLAY is really good, after all it's a SAMSUNG OLED panel, the colour and viewing angles are astonishing.\"\n",
      "* **Long Battery Life:** The 6000mAh battery consistently receives positive feedback for its impressive longevity. \n",
      "    * *Example:* \"Battery backup is just awesome. Call quality is also good wherein if you put call over...\"\n",
      "* **Good Performance:** Reviewers generally report smooth performance for everyday tasks and apps, with no significant lag or overheating issues. \n",
      "    * *Example:* \"Performance is good. Mainly using it for listening to music. Audio quality is good. Camera is also decent.\"\n",
      "* **Value for Money:** The phone is frequently praised as offering excellent value for its price point.\n",
      "    * *Example:* \"Best phone under 20k (my configuration: 8 GB/128 GB).\"\n",
      "* **One UI Software:** Many reviewers appreciate the One UI interface, citing its clean design, ease of use, and extensive features.\n",
      "    * *Example:* \"Good for normal use. Selfie camera is below average.\"\n",
      "* **Good Camera:** While not consistently rated as exceptional, the camera is considered decent for the price range, especially the main and selfie cameras.\n",
      "    * *Example:* \"Good camera Good screen Good battery backup Good sound Weight is littile more compare to other phone buy you will feel someting strong in your hand.\"\n",
      "* **Loud Speakers:** The dual speakers are appreciated for their clarity and volume.\n",
      "    * *Example:* \"Dual speakers are load clear & great.\"\n",
      "\n",
      "**Cons:**\n",
      "\n",
      "* **Slow Charging Speed:** The 25W charging speed is often criticized as slow compared to competitors, especially for a phone with a large battery.\n",
      "    * *Example:* \"The only drawback is the slow charging speed it charges at 25W, which is quite low compared to the competition.\"\n",
      "* **No Charger Included:** Reviewers are frustrated by the lack of a charger in the box, forcing them to purchase one separately.\n",
      "    * *Example:* \"Why only 25w charging speed it should be 100 like other phones.No charger provided\"\n",
      "* **Heavy and Bulky:** Some reviewers find the phone's size and weight cumbersome, particularly for one-handed use.\n",
      "    * *Example:* \"Phone is also too heavy to be managed by one hand...\"\n",
      "* **Camera Quality:** While generally considered decent, some reviewers find the camera lacking in detail or find the front camera to be of poor quality.\n",
      "    * *Example:* \"I am somewhat disappointed with the camera. My galaxy M31 shoots far better photos than this M35.\"\n",
      "* **Heating Issues:** A few reviewers mention experiencing heating issues during normal use, particularly with longer sessions of gaming or video streaming.\n",
      "    * *Example:* \"This mobile heats up during normal activities like watching YouTube videos.\"\n",
      "\n",
      "**Key Insights:**\n",
      "\n",
      "* **Target Audience:** The Samsung Galaxy M35 5G seems to be targeted towards casual users and those seeking a budget-friendly option with a strong focus on battery life and display quality. It's less ideal for power users, heavy gamers, or those prioritizing rapid charging speeds.\n",
      "* **Trade-Offs:** Reviewers highlight a clear trade-off between the phone's strengths (long battery life, large display, decent camera) and its weaknesses (slow charging, lack of charger, weight). \n",
      "* **Discrepancies:**  Some reviewers with high ratings mention specific cons, suggesting that while they are satisfied overall, certain aspects could be improved. \n",
      "\n",
      "**Decision-Making Summary:**\n",
      "\n",
      "The Samsung Galaxy M35 5G is a solid mid-range phone with impressive battery life, a vibrant display, and generally good performance. However, its slow charging speed, lack of a charger, and bulky design might be deal-breakers for some users. If you prioritize long battery life, a great display, and a well-rounded phone experience at a reasonable price, the M35 5G is a worthy contender. However, if you need rapid charging, a lightweight device, or a superior camera, you might want to consider other options in the market. \n",
      "\n"
     ]
    }
   ],
   "source": [
    "print(response.text)"
   ]
  },
  {
   "cell_type": "code",
   "execution_count": null,
   "metadata": {},
   "outputs": [],
   "source": []
  }
 ],
 "metadata": {
  "kernelspec": {
   "display_name": "review",
   "language": "python",
   "name": "python3"
  },
  "language_info": {
   "codemirror_mode": {
    "name": "ipython",
    "version": 3
   },
   "file_extension": ".py",
   "mimetype": "text/x-python",
   "name": "python",
   "nbconvert_exporter": "python",
   "pygments_lexer": "ipython3",
   "version": "3.12.4"
  }
 },
 "nbformat": 4,
 "nbformat_minor": 2
}
