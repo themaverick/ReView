{
 "cells": [
  {
   "cell_type": "code",
   "execution_count": 1,
   "metadata": {},
   "outputs": [],
   "source": [
    "import pandas as pd"
   ]
  },
  {
   "cell_type": "code",
   "execution_count": 2,
   "metadata": {},
   "outputs": [],
   "source": [
    "df1 = pd.read_csv(\"../ScrapedReviews/Review_Data.csv\")"
   ]
  },
  {
   "cell_type": "code",
   "execution_count": 4,
   "metadata": {},
   "outputs": [
    {
     "data": {
      "text/html": [
       "<div>\n",
       "<style scoped>\n",
       "    .dataframe tbody tr th:only-of-type {\n",
       "        vertical-align: middle;\n",
       "    }\n",
       "\n",
       "    .dataframe tbody tr th {\n",
       "        vertical-align: top;\n",
       "    }\n",
       "\n",
       "    .dataframe thead th {\n",
       "        text-align: right;\n",
       "    }\n",
       "</style>\n",
       "<table border=\"1\" class=\"dataframe\">\n",
       "  <thead>\n",
       "    <tr style=\"text-align: right;\">\n",
       "      <th></th>\n",
       "      <th>title</th>\n",
       "      <th>rating</th>\n",
       "      <th>content</th>\n",
       "    </tr>\n",
       "  </thead>\n",
       "  <tbody>\n",
       "    <tr>\n",
       "      <th>0</th>\n",
       "      <td>iPhone XR to iPhone 15</td>\n",
       "      <td>5</td>\n",
       "      <td>Just made the transition and here’s my POV on ...</td>\n",
       "    </tr>\n",
       "    <tr>\n",
       "      <th>1</th>\n",
       "      <td>Iphone from Apple as usual top in quality and ...</td>\n",
       "      <td>5</td>\n",
       "      <td>First of it looks very very prime quality and ...</td>\n",
       "    </tr>\n",
       "    <tr>\n",
       "      <th>2</th>\n",
       "      <td>iPhone 15 A solid upgrade and value for money</td>\n",
       "      <td>5</td>\n",
       "      <td>Design\\nOne of the most noticeable changes to ...</td>\n",
       "    </tr>\n",
       "    <tr>\n",
       "      <th>3</th>\n",
       "      <td>Good one</td>\n",
       "      <td>4</td>\n",
       "      <td>After so many follow ups finally received a pr...</td>\n",
       "    </tr>\n",
       "    <tr>\n",
       "      <th>4</th>\n",
       "      <td>The BEST iPhone EVERRRRRRR! : iPhone 15 review...</td>\n",
       "      <td>5</td>\n",
       "      <td>The display is impressively bright, despite th...</td>\n",
       "    </tr>\n",
       "  </tbody>\n",
       "</table>\n",
       "</div>"
      ],
      "text/plain": [
       "                                               title  rating  \\\n",
       "0                             iPhone XR to iPhone 15       5   \n",
       "1  Iphone from Apple as usual top in quality and ...       5   \n",
       "2      iPhone 15 A solid upgrade and value for money       5   \n",
       "3                                           Good one       4   \n",
       "4  The BEST iPhone EVERRRRRRR! : iPhone 15 review...       5   \n",
       "\n",
       "                                             content  \n",
       "0  Just made the transition and here’s my POV on ...  \n",
       "1  First of it looks very very prime quality and ...  \n",
       "2  Design\\nOne of the most noticeable changes to ...  \n",
       "3  After so many follow ups finally received a pr...  \n",
       "4  The display is impressively bright, despite th...  "
      ]
     },
     "execution_count": 4,
     "metadata": {},
     "output_type": "execute_result"
    }
   ],
   "source": [
    "df1 = df1.drop(\"Unnamed: 0\",axis = 1)\n",
    "df1.head()"
   ]
  },
  {
   "cell_type": "code",
   "execution_count": 8,
   "metadata": {},
   "outputs": [
    {
     "name": "stdout",
     "output_type": "stream",
     "text": [
      "                                                title  rating  \\\n",
      "0                              iPhone XR to iPhone 15       5   \n",
      "1   Iphone from Apple as usual top in quality and ...       5   \n",
      "2       iPhone 15 A solid upgrade and value for money       5   \n",
      "3                                            Good one       4   \n",
      "4   The BEST iPhone EVERRRRRRR! : iPhone 15 review...       5   \n",
      "..                                                ...     ...   \n",
      "95                                    Excellent phone       5   \n",
      "96                     Got a brand new phone loved ir       5   \n",
      "97                                    Geniune product       5   \n",
      "98                                               Nice       5   \n",
      "99                                             Worthy       5   \n",
      "\n",
      "                                              content  \n",
      "0   Just made the transition and here’s my POV on ...  \n",
      "1   First of it looks very very prime quality and ...  \n",
      "2   Design\\nOne of the most noticeable changes to ...  \n",
      "3   After so many follow ups finally received a pr...  \n",
      "4   The display is impressively bright, despite th...  \n",
      "..                                                ...  \n",
      "95                                    Excellent phone  \n",
      "96  Ordered iphone today. Loved the Amazon service...  \n",
      "97  There are pros and cons to this model, but i a...  \n",
      "98                                         A1 product  \n",
      "99  Dianamic island makes this phone special than ...  \n",
      "\n",
      "[100 rows x 3 columns]\n"
     ]
    }
   ],
   "source": [
    "print(df1)"
   ]
  },
  {
   "cell_type": "code",
   "execution_count": null,
   "metadata": {},
   "outputs": [],
   "source": []
  }
 ],
 "metadata": {
  "kernelspec": {
   "display_name": "review",
   "language": "python",
   "name": "python3"
  },
  "language_info": {
   "codemirror_mode": {
    "name": "ipython",
    "version": 3
   },
   "file_extension": ".py",
   "mimetype": "text/x-python",
   "name": "python",
   "nbconvert_exporter": "python",
   "pygments_lexer": "ipython3",
   "version": "3.12.4"
  }
 },
 "nbformat": 4,
 "nbformat_minor": 2
}
